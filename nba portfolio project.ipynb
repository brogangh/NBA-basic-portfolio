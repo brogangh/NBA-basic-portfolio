{
 "cells": [
  {
   "cell_type": "code",
   "execution_count": 1,
   "id": "d4d22d6a",
   "metadata": {},
   "outputs": [],
   "source": [
    "import pandas as pd\n",
    "import numpy as np\n",
    "from matplotlib import pyplot as plt\n",
    "import seaborn as sb\n",
    "from sklearn.linear_model import LinearRegression\n",
    "from sklearn.naive_bayes import MultinomialNB\n",
    "from sklearn.model_selection import train_test_split\n",
    "from sklearn.metrics import accuracy_score, recall_score, precision_score, f1_score"
   ]
  },
  {
   "cell_type": "code",
   "execution_count": 2,
   "id": "d9468654",
   "metadata": {},
   "outputs": [],
   "source": [
    "basic = pd.read_csv('nba_team_stats.csv')\n",
    "basic=basic.dropna()\n",
    "advanced = pd.read_csv('advanced_stats.csv')\n",
    "standings=pd.read_csv('standings.csv')\n",
    "machine_stats = pd.read_csv('nba_team_stats_machine_order.csv')\n",
    "machine_stats = machine_stats.iloc[:-1,:]\n",
    "#all statistics except for standing information is on a per game basist"
   ]
  },
  {
   "cell_type": "code",
   "execution_count": 3,
   "id": "4ff55bab",
   "metadata": {},
   "outputs": [
    {
     "name": "stdout",
     "output_type": "stream",
     "text": [
      "      Rk                     Team   G     MP    FG   FGA    FG%    3P   3PA  \\\n",
      "0    1.0  Minnesota Timberwolves*  82  241.2  41.6  91.0  0.457  14.8  41.3   \n",
      "1    2.0       Memphis Grizzlies*  82  241.2  43.5  94.4  0.461  11.5  32.7   \n",
      "2    3.0         Milwaukee Bucks*  82  240.9  41.8  89.4  0.468  14.1  38.4   \n",
      "3    4.0        Charlotte Hornets  82  242.4  42.8  91.4  0.468  13.9  38.2   \n",
      "4    5.0            Phoenix Suns*  82  240.6  43.7  90.1  0.485  11.6  31.9   \n",
      "5    6.0           Atlanta Hawks*  82  240.3  41.5  88.3  0.470  12.9  34.4   \n",
      "6    7.0               Utah Jazz*  82  240.6  40.6  86.2  0.471  14.5  40.3   \n",
      "7    8.0        San Antonio Spurs  82  241.5  43.2  92.7  0.467  11.3  32.0   \n",
      "8    9.0           Brooklyn Nets*  82  240.9  42.0  88.4  0.475  11.5  31.7   \n",
      "9   10.0          Denver Nuggets*  82  241.5  41.7  86.3  0.483  12.7  35.9   \n",
      "10  11.0       Los Angeles Lakers  82  243.7  41.6  88.8  0.469  12.0  34.5   \n",
      "11  12.0          Boston Celtics*  82  242.7  40.7  87.4  0.466  13.2  37.1   \n",
      "12  13.0           Chicago Bulls*  82  240.6  41.7  86.9  0.480  10.6  28.8   \n",
      "13  14.0           Indiana Pacers  82  242.4  41.4  89.5  0.463  12.2  35.4   \n",
      "14  15.0   Golden State Warriors*  82  240.6  40.5  86.4  0.469  14.3  39.4   \n",
      "15  16.0         Sacramento Kings  82  241.5  40.5  88.1  0.460  11.4  33.2   \n",
      "16  17.0              Miami Heat*  82  242.1  39.6  84.8  0.467  13.6  35.8   \n",
      "17  18.0      Philadelphia 76ers*  82  241.5  39.4  84.5  0.466  11.6  31.8   \n",
      "18  19.0          Houston Rockets  82  240.9  39.4  86.4  0.456  13.5  38.7   \n",
      "19  20.0         Toronto Raptors*  82  242.1  40.6  91.3  0.445  11.9  34.2   \n",
      "20  21.0    New Orleans Pelicans*  82  240.9  40.2  88.0  0.457  10.6  32.1   \n",
      "21  22.0       Washington Wizards  82  241.8  40.6  86.0  0.472  10.5  30.6   \n",
      "22  23.0     Los Angeles Clippers  82  241.2  40.1  87.4  0.458  12.8  34.2   \n",
      "23  24.0        Dallas Mavericks*  82  240.9  39.3  85.1  0.461  13.1  37.4   \n",
      "24  25.0      Cleveland Cavaliers  82  240.6  39.7  84.6  0.469  11.6  32.8   \n",
      "25  26.0          New York Knicks  82  241.2  37.7  86.2  0.437  13.2  36.9   \n",
      "26  27.0   Portland Trail Blazers  82  240.6  38.5  87.1  0.442  12.7  36.8   \n",
      "27  28.0          Detroit Pistons  82  241.2  38.2  88.6  0.431  11.3  34.6   \n",
      "28  29.0            Orlando Magic  82  241.2  38.3  88.3  0.434  12.2  36.9   \n",
      "29  30.0    Oklahoma City Thunder  82  241.5  38.3  89.1  0.430  12.1  37.4   \n",
      "\n",
      "      3P%  ...    FT%   ORB   DRB   TRB   AST  STL  BLK   TOV    PF    PTS  \n",
      "0   0.358  ...  0.778  11.2  32.9  44.2  25.7  8.8  5.6  14.3  21.8  115.9  \n",
      "1   0.353  ...  0.734  14.1  35.0  49.2  26.0  9.8  6.5  13.2  19.8  115.6  \n",
      "2   0.366  ...  0.776  10.2  36.5  46.7  23.9  7.6  4.0  13.4  18.2  115.5  \n",
      "3   0.365  ...  0.740  10.8  33.7  44.6  28.1  8.6  4.9  13.3  19.9  115.3  \n",
      "4   0.364  ...  0.797   9.8  35.5  45.3  27.4  8.6  4.4  12.9  19.9  114.8  \n",
      "5   0.374  ...  0.812  10.0  33.9  44.0  24.6  7.2  4.2  11.9  18.7  113.9  \n",
      "6   0.360  ...  0.767  10.8  35.6  46.3  22.4  7.2  4.9  14.0  18.9  113.6  \n",
      "7   0.352  ...  0.754  11.0  34.3  45.3  27.9  7.6  4.9  12.7  18.1  113.2  \n",
      "8   0.361  ...  0.805  10.3  34.1  44.4  25.3  7.1  5.5  14.1  20.4  112.9  \n",
      "9   0.353  ...  0.795   9.2  34.9  44.1  27.8  7.2  3.7  14.5  20.0  112.7  \n",
      "10  0.347  ...  0.732   9.5  34.5  44.0  24.0  7.6  5.2  14.5  20.2  112.1  \n",
      "11  0.356  ...  0.816  10.5  35.5  46.1  24.8  7.2  5.8  13.6  18.5  111.8  \n",
      "12  0.369  ...  0.813   8.7  33.7  42.3  23.9  7.1  4.1  12.8  18.8  111.6  \n",
      "13  0.344  ...  0.768  11.3  32.6  43.9  25.4  7.1  5.6  14.4  20.4  111.5  \n",
      "14  0.364  ...  0.769   9.8  35.7  45.5  27.1  8.8  4.5  14.9  21.0  111.0  \n",
      "15  0.344  ...  0.768   9.6  33.4  42.9  23.7  7.2  4.5  14.1  18.9  110.3  \n",
      "16  0.379  ...  0.808   9.8  33.9  43.7  25.5  7.4  3.2  14.6  20.5  110.0  \n",
      "17  0.364  ...  0.821   8.5  33.8  42.3  23.7  7.7  5.3  12.5  19.4  109.9  \n",
      "18  0.349  ...  0.713   9.6  32.4  42.0  23.6  7.3  4.7  16.5  20.6  109.7  \n",
      "19  0.349  ...  0.759  13.4  32.0  45.3  22.1  9.0  4.6  12.5  19.6  109.4  \n",
      "20  0.332  ...  0.789  12.0  33.2  45.2  25.0  8.3  4.0  14.1  19.7  109.3  \n",
      "21  0.342  ...  0.783   9.0  34.1  43.1  25.0  6.4  5.0  13.1  18.8  108.6  \n",
      "22  0.374  ...  0.793   9.1  34.9  44.0  24.0  7.4  5.0  13.7  18.6  108.4  \n",
      "23  0.350  ...  0.771   9.3  33.8  43.0  23.4  6.7  4.0  12.5  19.7  108.0  \n",
      "24  0.355  ...  0.760  10.2  34.0  44.2  25.2  7.1  4.2  14.4  17.5  107.8  \n",
      "25  0.357  ...  0.744  11.5  34.6  46.1  21.9  7.0  4.9  13.3  20.4  106.5  \n",
      "26  0.346  ...  0.760  10.4  32.5  42.9  22.9  8.0  4.5  14.5  21.1  106.2  \n",
      "27  0.326  ...  0.782  11.0  32.0  43.0  23.5  7.7  4.8  14.2  21.9  104.8  \n",
      "28  0.331  ...  0.787   9.1  35.2  44.3  23.7  6.8  4.5  14.5  19.7  104.2  \n",
      "29  0.323  ...  0.756  10.4  35.2  45.6  22.2  7.6  4.6  14.0  18.3  103.7  \n",
      "\n",
      "[30 rows x 25 columns]\n"
     ]
    }
   ],
   "source": [
    "print(basic)"
   ]
  },
  {
   "cell_type": "code",
   "execution_count": 4,
   "id": "1fa1e4aa",
   "metadata": {
    "scrolled": true
   },
   "outputs": [
    {
     "name": "stdout",
     "output_type": "stream",
     "text": [
      "   Unnamed: 0               Unnamed: 1 Unnamed: 2 Unnamed: 3 Unnamed: 4  \\\n",
      "1           1          Boston Celtics*       26.1         51         31   \n",
      "2           2            Phoenix Suns*       27.5         64         18   \n",
      "3           3               Utah Jazz*       29.3         49         33   \n",
      "4           4       Memphis Grizzlies*       24.0         56         26   \n",
      "5           5   Golden State Warriors*       27.6         53         29   \n",
      "6           6              Miami Heat*       28.2         53         29   \n",
      "7           7        Dallas Mavericks*       26.7         52         30   \n",
      "8           8         Milwaukee Bucks*       28.5         51         31   \n",
      "9           9      Philadelphia 76ers*       26.8         51         31   \n",
      "10         10  Minnesota Timberwolves*       24.2         46         36   \n",
      "11         11          Denver Nuggets*       27.7         48         34   \n",
      "12         12         Toronto Raptors*       24.8         48         34   \n",
      "13         13      Cleveland Cavaliers       24.7         44         38   \n",
      "14         14           Atlanta Hawks*       26.1         43         39   \n",
      "15         15           Brooklyn Nets*       29.1         44         38   \n",
      "16         16        Charlotte Hornets       25.5         43         39   \n",
      "17         17        San Antonio Spurs       24.5         34         48   \n",
      "18         18     Los Angeles Clippers       27.5         42         40   \n",
      "19         19          New York Knicks       26.0         37         45   \n",
      "20         20           Chicago Bulls*       26.3         46         36   \n",
      "21         21    New Orleans Pelicans*       25.6         36         46   \n",
      "22         22       Los Angeles Lakers       30.2         33         49   \n",
      "23         23       Washington Wizards       25.9         35         47   \n",
      "24         24           Indiana Pacers       26.0         25         57   \n",
      "25         25         Sacramento Kings       25.8         30         52   \n",
      "26         26          Detroit Pistons       23.6         23         59   \n",
      "27         27            Orlando Magic       23.3         22         60   \n",
      "28         28    Oklahoma City Thunder       22.4         24         58   \n",
      "29         29          Houston Rockets       24.1         20         62   \n",
      "30         30   Portland Trail Blazers       25.6         27         55   \n",
      "\n",
      "   Unnamed: 5 Unnamed: 6 Unnamed: 7 Unnamed: 8 Unnamed: 9  ...  \\\n",
      "1          59         23       7.28      -0.26       7.02  ...   \n",
      "2          59         23       7.50      -0.56       6.94  ...   \n",
      "3          56         26       6.04      -0.37       5.67  ...   \n",
      "4          55         27       5.68      -0.32       5.37  ...   \n",
      "5          55         27       5.54      -0.02       5.52  ...   \n",
      "6          53         29       4.45      -0.22       4.23  ...   \n",
      "7          50         32       3.30      -0.18       3.12  ...   \n",
      "8          49         33       3.35      -0.14       3.22  ...   \n",
      "9          48         34       2.61      -0.04       2.57  ...   \n",
      "10         48         34       2.63      -0.10       2.53  ...   \n",
      "11         47         35       2.30      -0.15       2.16  ...   \n",
      "12         47         35       2.29       0.08       2.38  ...   \n",
      "13         47         35       2.12      -0.08       2.04  ...   \n",
      "14         45         37       1.56      -0.01       1.55  ...   \n",
      "15         43         39       0.78       0.04       0.82  ...   \n",
      "16         42         40       0.44       0.09       0.53  ...   \n",
      "17         41         41       0.12      -0.10       0.02  ...   \n",
      "18         41         41       0.02       0.06       0.09  ...   \n",
      "19         41         41      -0.12       0.11      -0.01  ...   \n",
      "20         40         42      -0.39       0.02      -0.38  ...   \n",
      "21         38         44      -0.99       0.15      -0.84  ...   \n",
      "22         33         49      -3.05      -0.03      -3.08  ...   \n",
      "23         32         50      -3.38       0.15      -3.23  ...   \n",
      "24         32         50      -3.48       0.22      -3.26  ...   \n",
      "25         28         54      -5.46       0.20      -5.26  ...   \n",
      "26         22         60      -7.72       0.37      -7.36  ...   \n",
      "27         21         61      -8.00       0.33      -7.67  ...   \n",
      "28         21         61      -8.10       0.20      -7.90  ...   \n",
      "29         21         61      -8.48       0.22      -8.26  ...   \n",
      "30         20         62      -8.88       0.33      -8.55  ...   \n",
      "\n",
      "   Offense Four Factors.3 Unnamed: 22 Defense Four Factors  \\\n",
      "1                    .195         NaN                 .502   \n",
      "2                    .176         NaN                 .510   \n",
      "3                    .208         NaN                 .521   \n",
      "4                    .180         NaN                 .523   \n",
      "5                    .181         NaN                 .509   \n",
      "6                    .204         NaN                 .524   \n",
      "7                    .192         NaN                 .521   \n",
      "8                    .199         NaN                 .536   \n",
      "9                    .232         NaN                 .524   \n",
      "10                   .198         NaN                 .535   \n",
      "11                   .194         NaN                 .537   \n",
      "12                   .177         NaN                 .535   \n",
      "13                   .198         NaN                 .520   \n",
      "14                   .205         NaN                 .543   \n",
      "15                   .198         NaN                 .521   \n",
      "16                   .173         NaN                 .544   \n",
      "17                   .166         NaN                 .532   \n",
      "18                   .178         NaN                 .514   \n",
      "19                   .208         NaN                 .521   \n",
      "20                   .201         NaN                 .541   \n",
      "21                   .208         NaN                 .547   \n",
      "22                   .190         NaN                 .540   \n",
      "23                   .197         NaN                 .529   \n",
      "24                   .184         NaN                 .552   \n",
      "25                   .203         NaN                 .551   \n",
      "26                   .194         NaN                 .541   \n",
      "27                   .175         NaN                 .532   \n",
      "28                   .169         NaN                 .533   \n",
      "29                   .202         NaN                 .554   \n",
      "30                   .188         NaN                 .559   \n",
      "\n",
      "   Defense Four Factors.1 Defense Four Factors.2 Defense Four Factors.3  \\\n",
      "1                    12.5                   77.3                   .183   \n",
      "2                    13.0                   77.1                   .195   \n",
      "3                    10.9                   78.3                   .164   \n",
      "4                    13.3                   77.8                   .195   \n",
      "5                    13.0                   78.7                   .201   \n",
      "6                    13.8                   78.0                   .209   \n",
      "7                    12.2                   78.0                   .185   \n",
      "8                    11.6                   78.6                   .165   \n",
      "9                    12.1                   76.8                   .192   \n",
      "10                   14.2                   74.9                   .227   \n",
      "11                   11.7                   78.3                   .188   \n",
      "12                   14.4                   75.6                   .199   \n",
      "13                   12.3                   76.5                   .172   \n",
      "14                   11.5                   76.9                   .177   \n",
      "15                   11.7                   75.1                   .201   \n",
      "16                   13.1                   74.8                   .187   \n",
      "17                   12.1                   75.1                   .176   \n",
      "18                   12.0                   74.4                   .167   \n",
      "19                   11.7                   78.8                   .198   \n",
      "20                   11.9                   78.3                   .199   \n",
      "21                   13.0                   78.2                   .196   \n",
      "22                   12.2                   75.8                   .192   \n",
      "23                   10.7                   76.9                   .202   \n",
      "24                   11.9                   76.2                   .204   \n",
      "25                   11.9                   76.0                   .176   \n",
      "26                   13.1                   75.6                   .226   \n",
      "27                   11.7                   77.2                   .196   \n",
      "28                   11.8                   76.1                   .169   \n",
      "29                   12.3                   74.4                   .206   \n",
      "30                   12.7                   76.9                   .222   \n",
      "\n",
      "   Unnamed: 27                 Unnamed: 28 Unnamed: 29 Unnamed: 30  \n",
      "1          NaN                   TD Garden      727928       17754  \n",
      "2          NaN          Phoenix Suns Arena      663171       16175  \n",
      "3          NaN     Vivint Smart Home Arena      750546       18306  \n",
      "4          NaN                 FedEx Forum      646785       15775  \n",
      "5          NaN                Chase Center      740624       18064  \n",
      "6          NaN                   FTX Arena      804761       19628  \n",
      "7          NaN    American Airlines Center      808037       19708  \n",
      "8          NaN                Fiserv Forum      715581       17453  \n",
      "9          NaN          Wells Fargo Center      846867       20655  \n",
      "10         NaN               Target Center      657148       16028  \n",
      "11         NaN                  Ball Arena      695262       16958  \n",
      "12         NaN            Scotiabank Arena      547343       13350  \n",
      "13         NaN  Rocket Mortgage Fieldhouse      758228       18493  \n",
      "14         NaN            State Farm Arena      672742       16408  \n",
      "15         NaN             Barclays Center      711539       17355  \n",
      "16         NaN             Spectrum Center      700755       17092  \n",
      "17         NaN                 AT&T Center      615588       15014  \n",
      "18         NaN            Crypto.com Arena      694005       16927  \n",
      "19         NaN  Madison Square Garden (IV)      763484       18622  \n",
      "20         NaN               United Center      856148       20882  \n",
      "21         NaN        Smoothie King Center      635941       15511  \n",
      "22         NaN            Crypto.com Arena      764631       18650  \n",
      "23         NaN           Capital One Arena      641499       15646  \n",
      "24         NaN       Gainbridge Fieldhouse      588743       14360  \n",
      "25         NaN             Golden 1 Center      577583       14087  \n",
      "26         NaN        Little Caesars Arena      663556       16184  \n",
      "27         NaN                Amway Center      622881       15192  \n",
      "28         NaN               Paycom Center      595112       14515  \n",
      "29         NaN               Toyota Center      638977       15585  \n",
      "30         NaN                 Moda Center      705608       17210  \n",
      "\n",
      "[30 rows x 31 columns]\n"
     ]
    }
   ],
   "source": [
    "advanced = advanced.iloc[:-1,:]\n",
    "advanced = advanced.iloc[1:, :]\n",
    "\n",
    "print(advanced)"
   ]
  },
  {
   "cell_type": "code",
   "execution_count": 5,
   "id": "c7be50ef",
   "metadata": {},
   "outputs": [],
   "source": [
    "#print(standings)\n",
    "wins = [64, 56, 52, 52, 53, 51, 51, 51, 49, 48, 48, 46, 46, 44, 44, 43, 43, 42, 37, 36, 35, 34, 33, 30, 27, 25, 24, 23, 22, 20]"
   ]
  },
  {
   "cell_type": "code",
   "execution_count": 6,
   "id": "6803d5b3",
   "metadata": {
    "scrolled": true
   },
   "outputs": [
    {
     "name": "stdout",
     "output_type": "stream",
     "text": [
      "   Unnamed: 0             Unnamed: 1  Unnamed: 2  Place Place.1 Conference  \\\n",
      "0           1           Phoenix Suns          64   32-9    32-9       25-5   \n",
      "1           2      Memphis Grizzlies          56  30-11   26-15      20-10   \n",
      "2           3  Golden State Warriors          53  31-10   22-19      20-10   \n",
      "3           4             Miami Heat          53  29-12   24-17      35-17   \n",
      "4           5       Dallas Mavericks          52  29-12   23-18      16-14   \n",
      "\n",
      "  Conference.1 Division Division.1 Division.2  ... All-Star.1 Margin Margin.1  \\\n",
      "0        39-13    2-Aug      1-Sep      2-Aug  ...       16-8  2-Jun     37-9   \n",
      "1        36-16    4-Jun      1-Sep      5-May  ...       15-7  3-May    33-17   \n",
      "2        33-19    4-Jun      2-Aug      4-Jun  ...     12-Nov  5-Jun    34-10   \n",
      "3        18-12    8-Oct      6-Dec       13-3  ...       15-8  6-Mar    31-15   \n",
      "4        36-16    4-Jun      4-Jun      6-Apr  ...       17-6  5-Jul    27-14   \n",
      "\n",
      "   Month Month.1 Month.2 Month.3 Month.4 Month.5 Month.6  \n",
      "0  3-Feb    16-0   5-Sep    13-1   3-Sep    13-2   4-Feb  \n",
      "1  3-Mar   7-Aug   4-Dec   4-Dec   2-Aug   3-Nov   3-Feb  \n",
      "2  1-May    13-2   4-Sep   6-Nov   5-May  11-May  May-00  \n",
      "3  1-May   7-Aug   5-Oct   6-Sep   2-Sep   7-Aug   1-Apr  \n",
      "4  2-Apr   7-Jun   9-Jul   4-Dec   3-Jul   4-Dec   1-Apr  \n",
      "\n",
      "[5 rows x 24 columns]\n"
     ]
    }
   ],
   "source": [
    "print(standings.head())"
   ]
  },
  {
   "cell_type": "code",
   "execution_count": 7,
   "id": "7d04cc48",
   "metadata": {},
   "outputs": [
    {
     "data": {
      "image/png": "[encoded data removed]",
      "text/plain": [
       "<Figure size 432x288 with 1 Axes>"
      ]
     },
     "metadata": {
      "needs_background": "light"
     },
     "output_type": "display_data"
    },
    {
     "data": {
      "text/plain": [
       "<Figure size 432x288 with 0 Axes>"
      ]
     },
     "metadata": {},
     "output_type": "display_data"
    }
   ],
   "source": [
    "plt.scatter(standings['Unnamed: 0'], standings['Unnamed: 2'])\n",
    "plt.title('wins vs id')\n",
    "plt.show()\n",
    "plt.clf()"
   ]
  },
  {
   "cell_type": "code",
   "execution_count": 8,
   "id": "2f275c11",
   "metadata": {},
   "outputs": [
    {
     "data": {
      "image/png": "[encoded data removed]",
      "text/plain": [
       "<Figure size 432x288 with 1 Axes>"
      ]
     },
     "metadata": {
      "needs_background": "light"
     },
     "output_type": "display_data"
    },
    {
     "data": {
      "text/plain": [
       "<Figure size 432x288 with 0 Axes>"
      ]
     },
     "metadata": {},
     "output_type": "display_data"
    }
   ],
   "source": [
    "plt.scatter(standings['Unnamed: 2'], machine_stats['FG%'])\n",
    "plt.title('wins vs field goal %')\n",
    "plt.show()\n",
    "plt.clf()"
   ]
  },
  {
   "cell_type": "code",
   "execution_count": 9,
   "id": "c319c67f",
   "metadata": {},
   "outputs": [
    {
     "data": {
      "image/png": "[encoded data removed]",
      "text/plain": [
       "<Figure size 432x288 with 1 Axes>"
      ]
     },
     "metadata": {
      "needs_background": "light"
     },
     "output_type": "display_data"
    },
    {
     "data": {
      "text/plain": [
       "<Figure size 432x288 with 0 Axes>"
      ]
     },
     "metadata": {},
     "output_type": "display_data"
    }
   ],
   "source": [
    "plt.scatter(standings['Unnamed: 2'], machine_stats['3P%'])\n",
    "plt.title('3 point % vs wins')\n",
    "plt.show()\n",
    "plt.clf()"
   ]
  },
  {
   "cell_type": "code",
   "execution_count": 10,
   "id": "1c31fd52",
   "metadata": {},
   "outputs": [
    {
     "data": {
      "image/png": "[encoded data removed]",
      "text/plain": [
       "<Figure size 432x288 with 1 Axes>"
      ]
     },
     "metadata": {
      "needs_background": "light"
     },
     "output_type": "display_data"
    },
    {
     "data": {
      "text/plain": [
       "<Figure size 432x288 with 0 Axes>"
      ]
     },
     "metadata": {},
     "output_type": "display_data"
    }
   ],
   "source": [
    "plt.scatter(standings['Unnamed: 2'], machine_stats['3PA'])\n",
    "plt.title('3 point attempts vs wins')\n",
    "plt.show()\n",
    "plt.clf()"
   ]
  },
  {
   "cell_type": "code",
   "execution_count": 11,
   "id": "68fffc05",
   "metadata": {},
   "outputs": [
    {
     "data": {
      "image/png": "[encoded data removed]",
      "text/plain": [
       "<Figure size 432x288 with 1 Axes>"
      ]
     },
     "metadata": {
      "needs_background": "light"
     },
     "output_type": "display_data"
    },
    {
     "data": {
      "text/plain": [
       "<Figure size 432x288 with 0 Axes>"
      ]
     },
     "metadata": {},
     "output_type": "display_data"
    }
   ],
   "source": [
    "plt.scatter(standings['Unnamed: 2'], machine_stats['TRB'])\n",
    "plt.title('total rebounds vs wins')\n",
    "plt.show()\n",
    "plt.clf()"
   ]
  },
  {
   "cell_type": "code",
   "execution_count": 12,
   "id": "298c65de",
   "metadata": {},
   "outputs": [
    {
     "data": {
      "image/png": "[encoded data removed]",
      "text/plain": [
       "<Figure size 432x288 with 1 Axes>"
      ]
     },
     "metadata": {
      "needs_background": "light"
     },
     "output_type": "display_data"
    },
    {
     "data": {
      "text/plain": [
       "<Figure size 432x288 with 0 Axes>"
      ]
     },
     "metadata": {},
     "output_type": "display_data"
    }
   ],
   "source": [
    "plt.scatter(standings['Unnamed: 2'], machine_stats['ORB'])\n",
    "plt.title('offensive rebounds vs wins')\n",
    "plt.show()\n",
    "plt.clf()"
   ]
  },
  {
   "cell_type": "code",
   "execution_count": 13,
   "id": "d116ac2c",
   "metadata": {},
   "outputs": [
    {
     "data": {
      "image/png": "[encoded data removed]",
      "text/plain": [
       "<Figure size 432x288 with 1 Axes>"
      ]
     },
     "metadata": {
      "needs_background": "light"
     },
     "output_type": "display_data"
    },
    {
     "data": {
      "text/plain": [
       "<Figure size 432x288 with 0 Axes>"
      ]
     },
     "metadata": {},
     "output_type": "display_data"
    }
   ],
   "source": [
    "plt.scatter(standings['Unnamed: 2'], machine_stats['TOV'])\n",
    "plt.title('turnovers vs wins')\n",
    "plt.show()\n",
    "plt.clf()"
   ]
  },
  {
   "cell_type": "code",
   "execution_count": 14,
   "id": "99aafd5c",
   "metadata": {},
   "outputs": [
    {
     "data": {
      "image/png": "[encoded data removed]",
      "text/plain": [
       "<Figure size 432x288 with 1 Axes>"
      ]
     },
     "metadata": {
      "needs_background": "light"
     },
     "output_type": "display_data"
    },
    {
     "data": {
      "text/plain": [
       "<Figure size 432x288 with 0 Axes>"
      ]
     },
     "metadata": {},
     "output_type": "display_data"
    }
   ],
   "source": [
    "plt.scatter(advanced['Unnamed: 10'], standings['Unnamed: 2'])\n",
    "plt.title('offensive rating vs wins')\n",
    "plt.show()\n",
    "plt.clf()\n",
    "#need to declutter axis labels if I decide to use this, might just use advanced for machine learning"
   ]
  },
  {
   "cell_type": "code",
   "execution_count": 15,
   "id": "7e47c44d",
   "metadata": {},
   "outputs": [
    {
     "data": {
      "image/png": "[encoded data removed]",
      "text/plain": [
       "<Figure size 432x288 with 1 Axes>"
      ]
     },
     "metadata": {
      "needs_background": "light"
     },
     "output_type": "display_data"
    },
    {
     "data": {
      "text/plain": [
       "<Figure size 432x288 with 0 Axes>"
      ]
     },
     "metadata": {},
     "output_type": "display_data"
    }
   ],
   "source": [
    "plt.scatter(standings['Unnamed: 2'], machine_stats.FGA)\n",
    "plt.title('field goal attemps vs wins')\n",
    "plt.show()\n",
    "plt.clf()"
   ]
  },
  {
   "cell_type": "code",
   "execution_count": 16,
   "id": "c7dbafb4",
   "metadata": {},
   "outputs": [
    {
     "data": {
      "image/png": "[encoded data removed]",
      "text/plain": [
       "<Figure size 432x288 with 1 Axes>"
      ]
     },
     "metadata": {
      "needs_background": "light"
     },
     "output_type": "display_data"
    },
    {
     "data": {
      "text/plain": [
       "<Figure size 432x288 with 0 Axes>"
      ]
     },
     "metadata": {},
     "output_type": "display_data"
    }
   ],
   "source": [
    "plt.scatter(standings['Unnamed: 2'], machine_stats.AST)\n",
    "plt.title('assists vs wins')\n",
    "plt.show()\n",
    "plt.clf()"
   ]
  },
  {
   "cell_type": "code",
   "execution_count": 17,
   "id": "ebb9a6e5",
   "metadata": {},
   "outputs": [
    {
     "data": {
      "image/png": "[encoded data removed]",
      "text/plain": [
       "<Figure size 432x288 with 1 Axes>"
      ]
     },
     "metadata": {
      "needs_background": "light"
     },
     "output_type": "display_data"
    },
    {
     "data": {
      "text/plain": [
       "<Figure size 432x288 with 0 Axes>"
      ]
     },
     "metadata": {},
     "output_type": "display_data"
    }
   ],
   "source": [
    "plt.scatter(standings['Unnamed: 2'], machine_stats.BLK)\n",
    "plt.title('blocks vs wins')\n",
    "plt.show()\n",
    "plt.clf()"
   ]
  },
  {
   "cell_type": "code",
   "execution_count": 18,
   "id": "e26aa362",
   "metadata": {},
   "outputs": [
    {
     "data": {
      "image/png": "[encoded data removed]",
      "text/plain": [
       "<Figure size 432x288 with 1 Axes>"
      ]
     },
     "metadata": {
      "needs_background": "light"
     },
     "output_type": "display_data"
    },
    {
     "data": {
      "text/plain": [
       "<Figure size 432x288 with 0 Axes>"
      ]
     },
     "metadata": {},
     "output_type": "display_data"
    }
   ],
   "source": [
    "plt.scatter(standings['Unnamed: 2'], machine_stats.STL)\n",
    "plt.title('steals vs wins')\n",
    "plt.show()\n",
    "plt.clf()"
   ]
  },
  {
   "cell_type": "code",
   "execution_count": 19,
   "id": "4fa42c57",
   "metadata": {},
   "outputs": [
    {
     "data": {
      "image/png": "[encoded data removed]",
      "text/plain": [
       "<Figure size 432x288 with 1 Axes>"
      ]
     },
     "metadata": {
      "needs_background": "light"
     },
     "output_type": "display_data"
    },
    {
     "data": {
      "text/plain": [
       "<Figure size 432x288 with 0 Axes>"
      ]
     },
     "metadata": {},
     "output_type": "display_data"
    }
   ],
   "source": [
    "plt.scatter(standings['Unnamed: 2'], machine_stats['3P'])\n",
    "plt.title('3 pointers vs wins')\n",
    "plt.show()\n",
    "plt.clf()"
   ]
  },
  {
   "cell_type": "code",
   "execution_count": 20,
   "id": "3ab18c96",
   "metadata": {},
   "outputs": [
    {
     "data": {
      "image/png": "[encoded data removed]",
      "text/plain": [
       "<Figure size 432x288 with 1 Axes>"
      ]
     },
     "metadata": {
      "needs_background": "light"
     },
     "output_type": "display_data"
    },
    {
     "data": {
      "text/plain": [
       "<Figure size 432x288 with 0 Axes>"
      ]
     },
     "metadata": {},
     "output_type": "display_data"
    }
   ],
   "source": [
    "plt.scatter(standings['Unnamed: 2'], machine_stats.PTS)\n",
    "plt.title('points vs wins')\n",
    "plt.show()\n",
    "plt.clf()"
   ]
  },
  {
   "cell_type": "code",
   "execution_count": 21,
   "id": "905c76ea",
   "metadata": {},
   "outputs": [
    {
     "data": {
      "image/png": "[encoded data removed]",
      "text/plain": [
       "<Figure size 432x288 with 1 Axes>"
      ]
     },
     "metadata": {
      "needs_background": "light"
     },
     "output_type": "display_data"
    },
    {
     "data": {
      "text/plain": [
       "<Figure size 432x288 with 0 Axes>"
      ]
     },
     "metadata": {},
     "output_type": "display_data"
    }
   ],
   "source": [
    "plt.scatter(basic.TRB, machine_stats.ORB)\n",
    "plt.title('total rebounds vs offensive rebounds')\n",
    "plt.show()\n",
    "plt.clf()"
   ]
  },
  {
   "cell_type": "code",
   "execution_count": 22,
   "id": "a5f9e516",
   "metadata": {},
   "outputs": [
    {
     "data": {
      "image/png": "[encoded data removed]",
      "text/plain": [
       "<Figure size 432x288 with 1 Axes>"
      ]
     },
     "metadata": {
      "needs_background": "light"
     },
     "output_type": "display_data"
    },
    {
     "data": {
      "text/plain": [
       "<Figure size 432x288 with 0 Axes>"
      ]
     },
     "metadata": {},
     "output_type": "display_data"
    }
   ],
   "source": [
    "plt.scatter(basic.DRB, machine_stats.ORB)\n",
    "plt.title('defensive rebounds vs offensive rebounds')\n",
    "plt.show()\n",
    "plt.clf()"
   ]
  },
  {
   "cell_type": "code",
   "execution_count": 23,
   "id": "b05f61fe",
   "metadata": {},
   "outputs": [
    {
     "data": {
      "image/png": "[encoded data removed]",
      "text/plain": [
       "<Figure size 432x288 with 1 Axes>"
      ]
     },
     "metadata": {
      "needs_background": "light"
     },
     "output_type": "display_data"
    },
    {
     "data": {
      "text/plain": [
       "<Figure size 432x288 with 0 Axes>"
      ]
     },
     "metadata": {},
     "output_type": "display_data"
    }
   ],
   "source": [
    "plt.scatter(basic['3P%'], machine_stats['FG%'])\n",
    "plt.title('field goal percentage vs 3 point percentage')\n",
    "plt.show()\n",
    "plt.clf()"
   ]
  },
  {
   "cell_type": "code",
   "execution_count": 24,
   "id": "c2eb01c2",
   "metadata": {},
   "outputs": [
    {
     "data": {
      "image/png": "[encoded data removed]",
      "text/plain": [
       "<Figure size 432x288 with 1 Axes>"
      ]
     },
     "metadata": {
      "needs_background": "light"
     },
     "output_type": "display_data"
    },
    {
     "data": {
      "text/plain": [
       "<Figure size 432x288 with 0 Axes>"
      ]
     },
     "metadata": {},
     "output_type": "display_data"
    }
   ],
   "source": [
    "plt.scatter(basic['3P%'], machine_stats['2P%'])\n",
    "plt.title('3 point field goal percentage vs 2 point field goal percentage')\n",
    "plt.show()\n",
    "plt.clf()"
   ]
  },
  {
   "cell_type": "code",
   "execution_count": 25,
   "id": "5b15208d",
   "metadata": {},
   "outputs": [],
   "source": [
    "\n",
    "x = machine_stats['PTS']\n",
    "x=pd.array(x)\n",
    "x=x.reshape(-1,1)\n",
    "y = standings['Unnamed: 2']\n",
    "y=pd.array(y)\n",
    "y=y.reshape(-1,1)"
   ]
  },
  {
   "cell_type": "code",
   "execution_count": 26,
   "id": "33069951",
   "metadata": {},
   "outputs": [],
   "source": [
    "x_train, x_test, y_train, y_test = train_test_split(x,y, test_size = .6, random_state = 1)"
   ]
  },
  {
   "cell_type": "code",
   "execution_count": 27,
   "id": "418829d9",
   "metadata": {},
   "outputs": [
    {
     "name": "stdout",
     "output_type": "stream",
     "text": [
      "0.258934305938212\n",
      "[[45.08057647]\n",
      " [37.01256018]\n",
      " [37.30070362]\n",
      " [39.89399457]\n",
      " [50.26715838]\n",
      " [38.16513393]\n",
      " [28.08011357]\n",
      " [39.02956425]\n",
      " [32.69040859]\n",
      " [34.9955561 ]\n",
      " [34.41926923]\n",
      " [33.26669547]\n",
      " [41.91099864]\n",
      " [28.94454388]\n",
      " [54.8774534 ]\n",
      " [43.35171584]\n",
      " [54.30116652]\n",
      " [38.74142081]]\n"
     ]
    }
   ],
   "source": [
    "model = LinearRegression()\n",
    "model.fit(x_train, y_train)\n",
    "print(model.score(x_test, y_test))\n",
    "print(model.predict(x_test))"
   ]
  },
  {
   "cell_type": "code",
   "execution_count": 28,
   "id": "b16f6e6d",
   "metadata": {},
   "outputs": [
    {
     "name": "stdout",
     "output_type": "stream",
     "text": [
      "0.14842455502522256\n",
      "[[47.00867844]\n",
      " [39.76720463]\n",
      " [32.52573082]\n",
      " [41.57757308]\n",
      " [47.61213459]\n",
      " [39.16374848]\n",
      " [30.71536236]\n",
      " [45.80176614]\n",
      " [47.00867844]\n",
      " [48.81904689]\n",
      " [40.37066078]\n",
      " [42.18102923]\n",
      " [47.00867844]\n",
      " [27.69808161]\n",
      " [46.40522229]\n",
      " [43.38794153]\n",
      " [46.40522229]\n",
      " [45.19830999]]\n"
     ]
    }
   ],
   "source": [
    "x2= machine_stats['FG%']\n",
    "x2=pd.array(x2)\n",
    "x2=x2.reshape(-1,1)\n",
    "model2=LinearRegression()\n",
    "x_train2, x_test2, y_train2, y_test2 = train_test_split(x2,y, test_size = .6, random_state = 1)\n",
    "model2.fit(x_train2, y_train2)\n",
    "print(model2.score(x_test2, y_test2))\n",
    "print(model2.predict(x_test2))"
   ]
  },
  {
   "cell_type": "code",
   "execution_count": 29,
   "id": "8a5676f1",
   "metadata": {},
   "outputs": [
    {
     "name": "stdout",
     "output_type": "stream",
     "text": [
      "-0.06261800931982475\n",
      "[[39.57479028]\n",
      " [43.15520515]\n",
      " [43.45357306]\n",
      " [36.29274331]\n",
      " [39.57479028]\n",
      " [33.60743216]\n",
      " [36.29274331]\n",
      " [38.67968656]\n",
      " [40.17152609]\n",
      " [36.88947912]\n",
      " [39.57479028]\n",
      " [36.59111122]\n",
      " [44.05030887]\n",
      " [45.84051631]\n",
      " [47.63072375]\n",
      " [39.27642237]\n",
      " [41.36499772]\n",
      " [34.50253587]]\n"
     ]
    }
   ],
   "source": [
    "x3 = machine_stats['TRB']\n",
    "x3=pd.array(x3)\n",
    "x3=x3.reshape(-1,1)\n",
    "model3=LinearRegression()\n",
    "x_train3, x_test3, y_train3, y_test3 = train_test_split(x3,y, test_size = .6, random_state = 1)\n",
    "model3.fit(x_train3, y_train3)\n",
    "print(model3.score(x_test3, y_test3))\n",
    "print(model3.predict(x_test3))"
   ]
  },
  {
   "cell_type": "code",
   "execution_count": 30,
   "id": "1c33e9e9",
   "metadata": {},
   "outputs": [
    {
     "name": "stdout",
     "output_type": "stream",
     "text": [
      "0.05589040667564549\n",
      "[[38.96239981]\n",
      " [43.09026403]\n",
      " [40.91770391]\n",
      " [41.56947195]\n",
      " [44.75589345]\n",
      " [37.58644507]\n",
      " [40.99012258]\n",
      " [44.46621876]\n",
      " [40.99012258]\n",
      " [42.655752  ]\n",
      " [43.37993871]\n",
      " [41.78672796]\n",
      " [41.64189062]\n",
      " [39.83142386]\n",
      " [42.14882131]\n",
      " [41.56947195]\n",
      " [39.54174917]\n",
      " [45.40766148]]\n"
     ]
    }
   ],
   "source": [
    "x4 = machine_stats['FT%']\n",
    "x4=pd.array(x4)\n",
    "x4=x4.reshape(-1,1)\n",
    "model4=LinearRegression()\n",
    "x_train4, x_test4, y_train4, y_test4 = train_test_split(x4,y, test_size = .6, random_state = 1)\n",
    "model4.fit(x_train4, y_train4)\n",
    "print(model4.score(x_test4, y_test4))\n",
    "print(model4.predict(x_test4))"
   ]
  },
  {
   "cell_type": "code",
   "execution_count": 36,
   "id": "950956fd",
   "metadata": {},
   "outputs": [
    {
     "name": "stdout",
     "output_type": "stream",
     "text": [
      "0.18890928986401434\n",
      "[[36.51654295]\n",
      " [39.0633495 ]\n",
      " [33.10185286]\n",
      " [32.87801569]\n",
      " [50.14485719]\n",
      " [22.68976409]\n",
      " [21.77147794]\n",
      " [43.13598391]\n",
      " [34.81875531]\n",
      " [35.67736287]\n",
      " [37.02170155]\n",
      " [30.51095428]\n",
      " [45.15110298]\n",
      " [27.78269488]\n",
      " [54.28634058]\n",
      " [38.5856772 ]\n",
      " [46.02623622]\n",
      " [39.12641262]]\n"
     ]
    }
   ],
   "source": [
    "x5 = machine_stats[['PTS', 'FG%', 'AST', 'TRB', 'FT%', '3P%']]\n",
    "model5=LinearRegression()\n",
    "x_train5, x_test5, y_train5, y_test5 = train_test_split(x5, y, test_size=.6, random_state=1)\n",
    "model5.fit(x_train5, y_train5)\n",
    "print(model5.score(x_test5, y_test5))\n",
    "print(model5.predict(x_test5))"
   ]
  },
  {
   "cell_type": "code",
   "execution_count": 41,
   "id": "64093736",
   "metadata": {},
   "outputs": [
    {
     "name": "stdout",
     "output_type": "stream",
     "text": [
      "0.19985545512959524\n",
      "[[35.79711709]\n",
      " [39.92488822]\n",
      " [34.4862381 ]\n",
      " [32.62639571]\n",
      " [50.22054871]\n",
      " [22.42029493]\n",
      " [22.27724974]\n",
      " [43.90787848]\n",
      " [35.62207424]\n",
      " [35.76949722]\n",
      " [37.18608536]\n",
      " [30.637364  ]\n",
      " [45.09432429]\n",
      " [28.26620832]\n",
      " [53.32637248]\n",
      " [39.08867243]\n",
      " [45.77401713]\n",
      " [39.11980805]]\n"
     ]
    }
   ],
   "source": [
    "x5 = machine_stats[['PTS', 'FG%', 'AST', 'TRB', 'FT%', '3P%', 'ORB']]\n",
    "model5=LinearRegression()\n",
    "x_train5, x_test5, y_train5, y_test5 = train_test_split(x5, y, test_size=.6, random_state=1)\n",
    "model5.fit(x_train5, y_train5)\n",
    "print(model5.score(x_test5, y_test5))\n",
    "print(model5.predict(x_test5))"
   ]
  },
  {
   "cell_type": "code",
   "execution_count": 42,
   "id": "bd348a28",
   "metadata": {},
   "outputs": [
    {
     "name": "stdout",
     "output_type": "stream",
     "text": [
      "0.06575456423344006\n",
      "[[47.0522124 ]\n",
      " [41.45602154]\n",
      " [33.14232335]\n",
      " [41.60290422]\n",
      " [47.20518729]\n",
      " [35.10851959]\n",
      " [24.07584966]\n",
      " [33.73557348]\n",
      " [33.77618407]\n",
      " [41.6719255 ]\n",
      " [28.0701025 ]\n",
      " [34.40940141]\n",
      " [38.9750644 ]\n",
      " [19.92063465]\n",
      " [52.04076992]\n",
      " [44.87650782]\n",
      " [48.06171815]\n",
      " [38.93712572]]\n"
     ]
    }
   ],
   "source": [
    "x5 = machine_stats[['PTS', 'FG%', 'AST', 'FT%', '3P%']]\n",
    "model5=LinearRegression()\n",
    "x_train5, x_test5, y_train5, y_test5 = train_test_split(x5, y, test_size=.6, random_state=1)\n",
    "model5.fit(x_train5, y_train5)\n",
    "print(model5.score(x_test5, y_test5))\n",
    "print(model5.predict(x_test5))"
   ]
  },
  {
   "cell_type": "code",
   "execution_count": 43,
   "id": "4446b27f",
   "metadata": {},
   "outputs": [
    {
     "name": "stdout",
     "output_type": "stream",
     "text": [
      "0.28833475380438933\n",
      "[[36.02290385]\n",
      " [43.06116489]\n",
      " [38.95988762]\n",
      " [31.95960415]\n",
      " [47.88795712]\n",
      " [21.08295017]\n",
      " [25.67587288]\n",
      " [44.61753244]\n",
      " [35.98440665]\n",
      " [34.23874996]\n",
      " [38.64003546]\n",
      " [29.66928368]\n",
      " [50.53515939]\n",
      " [24.36542734]\n",
      " [50.52646407]\n",
      " [35.33101475]\n",
      " [45.20119452]\n",
      " [43.79258397]]\n"
     ]
    }
   ],
   "source": [
    "x5 = machine_stats[['PTS', 'FG%', 'AST', 'TRB', 'FT%', '3P%', 'STL']]\n",
    "model5=LinearRegression()\n",
    "x_train5, x_test5, y_train5, y_test5 = train_test_split(x5, y, test_size=.6, random_state=1)\n",
    "model5.fit(x_train5, y_train5)\n",
    "print(model5.score(x_test5, y_test5))\n",
    "print(model5.predict(x_test5))"
   ]
  },
  {
   "cell_type": "code",
   "execution_count": 45,
   "id": "276b5172",
   "metadata": {},
   "outputs": [
    {
     "name": "stdout",
     "output_type": "stream",
     "text": [
      "0.288043890060929\n",
      "[[37.16651592]\n",
      " [41.93176743]\n",
      " [37.10519523]\n",
      " [32.30701857]\n",
      " [47.60489754]\n",
      " [21.41107899]\n",
      " [25.12263035]\n",
      " [43.45761067]\n",
      " [34.75074624]\n",
      " [33.98643455]\n",
      " [38.48484652]\n",
      " [29.40290149]\n",
      " [51.00765861]\n",
      " [23.3325741 ]\n",
      " [51.83385824]\n",
      " [34.27771198]\n",
      " [45.55617147]\n",
      " [44.13229856]]\n"
     ]
    }
   ],
   "source": [
    "x5 = machine_stats[['PTS', 'FG%', 'AST', 'TRB', 'FT%', '3P%', 'STL', 'ORB']]\n",
    "model5=LinearRegression()\n",
    "x_train5, x_test5, y_train5, y_test5 = train_test_split(x5, y, test_size=.6, random_state=1)\n",
    "model5.fit(x_train5, y_train5)\n",
    "print(model5.score(x_test5, y_test5))\n",
    "print(model5.predict(x_test5))"
   ]
  },
  {
   "cell_type": "code",
   "execution_count": 46,
   "id": "fa479437",
   "metadata": {},
   "outputs": [
    {
     "name": "stdout",
     "output_type": "stream",
     "text": [
      "-0.4824426898640721\n",
      "[[29.54247511]\n",
      " [38.32703171]\n",
      " [37.25091897]\n",
      " [26.02243954]\n",
      " [61.88217545]\n",
      " [ 4.88635553]\n",
      " [24.96728818]\n",
      " [46.70434348]\n",
      " [31.82077816]\n",
      " [39.8365368 ]\n",
      " [39.03067426]\n",
      " [47.88939994]\n",
      " [54.87324146]\n",
      " [45.75622059]\n",
      " [55.23283066]\n",
      " [26.02445423]\n",
      " [50.67725644]\n",
      " [60.56591373]]\n"
     ]
    }
   ],
   "source": [
    "x5 = machine_stats[['G', 'MP', 'FG', 'FGA', 'FG%', '3P', '3PA', '3P%', '2P', '2PA', '2P%', 'FT', 'FTA', 'FT%', 'ORB', 'DRB', 'TRB', 'AST', 'STL', 'BLK', 'TOV', 'PF', 'PTS']]\n",
    "model5=LinearRegression()\n",
    "x_train5, x_test5, y_train5, y_test5 = train_test_split(x5, y, test_size=.6, random_state=1)\n",
    "model5.fit(x_train5, y_train5)\n",
    "print(model5.score(x_test5, y_test5))\n",
    "print(model5.predict(x_test5))"
   ]
  },
  {
   "cell_type": "code",
   "execution_count": null,
   "id": "0fcb9353",
   "metadata": {},
   "outputs": [],
   "source": []
  }
 ],
 "metadata": {
  "kernelspec": {
   "display_name": "Python 3 (ipykernel)",
   "language": "python",
   "name": "python3"
  },
  "language_info": {
   "codemirror_mode": {
    "name": "ipython",
    "version": 3
   },
   "file_extension": ".py",
   "mimetype": "text/x-python",
   "name": "python",
   "nbconvert_exporter": "python",
   "pygments_lexer": "ipython3",
   "version": "3.9.7"
  }
 },
 "nbformat": 4,
 "nbformat_minor": 5
}
